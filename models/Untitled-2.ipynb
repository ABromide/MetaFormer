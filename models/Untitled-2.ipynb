{
 "cells": [
  {
   "cell_type": "code",
   "execution_count": 1,
   "metadata": {},
   "outputs": [],
   "source": [
    "import shutil\n",
    "import os\n",
    "\"\"\" \n",
    "A=回肠末端  \n",
    "B=回盲部\n",
    "C=*\n",
    "\"\"\"\n",
    "# target_folder=\"/home/zhouheng/workspace/new_data\"\n",
    "base_folder=\"/home/zhouheng/workspace/MetaFormer/datasets/medical/imgs\"\n",
    "folders=os.listdir(base_folder)\n",
    "for folder in folders:\n",
    "    abs_folder=os.path.join(base_folder,folder)\n",
    "    files=os.listdir(abs_folder)\n",
    "    for file in files:\n",
    "        ext=file.split(\".\")[-1]\n",
    "        abs_file=os.path.join(abs_folder,file)\n",
    "        new_abs_file_renamed=\"\"\n",
    "        if \"回肠\" in file:\n",
    "            new_abs_file_renamed=os.path.join(abs_folder,\"A.\"+ext)\n",
    "        elif \"回盲\" in file:\n",
    "            new_abs_file_renamed=os.path.join(abs_folder,\"B.\"+ext)\n",
    "        else:\n",
    "            new_abs_file_renamed=os.path.join(abs_folder,\"C.\"+ext)\n",
    "        shutil.move(abs_file,new_abs_file_renamed)\n"
   ]
  }
 ],
 "metadata": {
  "kernelspec": {
   "display_name": "base",
   "language": "python",
   "name": "python3"
  },
  "language_info": {
   "codemirror_mode": {
    "name": "ipython",
    "version": 3
   },
   "file_extension": ".py",
   "mimetype": "text/x-python",
   "name": "python",
   "nbconvert_exporter": "python",
   "pygments_lexer": "ipython3",
   "version": "3.9.13"
  },
  "orig_nbformat": 4
 },
 "nbformat": 4,
 "nbformat_minor": 2
}
